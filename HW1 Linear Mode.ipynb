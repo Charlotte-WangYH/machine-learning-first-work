{
 "cells": [
  {
   "cell_type": "code",
   "execution_count": 52,
   "id": "d57d1f23",
   "metadata": {},
   "outputs": [],
   "source": [
    "#引入包\n",
    "import numpy as np\n",
    "from matplotlib import pyplot as plt\n",
    "from sklearn.model_selection import train_test_split"
   ]
  },
  {
   "cell_type": "code",
   "execution_count": 53,
   "id": "490e458e",
   "metadata": {},
   "outputs": [
    {
     "name": "stdout",
     "output_type": "stream",
     "text": [
      "(47, 3)\n"
     ]
    }
   ],
   "source": [
    "#导入数据\n",
    "filename = 'data1.txt'\n",
    "data = np.loadtxt(filename,delimiter=',')\n",
    "print(data.shape)\n",
    "feature_num = data.shape[1]-1\n",
    "data = data.astype('float32')#转化类型为float32\n",
    "#print(data)"
   ]
  },
  {
   "cell_type": "code",
   "execution_count": 79,
   "id": "54f355d5",
   "metadata": {},
   "outputs": [
    {
     "name": "stdout",
     "output_type": "stream",
     "text": [
      "[[0.17366302 0.5        1.        ]\n",
      " [0.61443359 0.5        1.        ]\n",
      " [0.11960897 0.25       1.        ]\n",
      " [0.12277171 0.5        1.        ]\n",
      " [0.34502587 0.5        1.        ]\n",
      " [0.45054629 0.75       1.        ]\n",
      " [0.02875216 0.5        1.        ]\n",
      " [0.14203565 0.5        1.        ]\n",
      " [0.1092582  0.5        1.        ]\n",
      " [0.83093733 0.5        1.        ]\n",
      " [0.25589418 0.5        1.        ]\n",
      " [0.23317999 0.75       1.        ]\n",
      " [0.15353651 0.5        1.        ]\n",
      " [0.40253019 0.5        1.        ]\n",
      " [0.24123059 0.25       1.        ]\n",
      " [0.4626222  0.75       1.        ]\n",
      " [0.31742382 0.5        1.        ]\n",
      " [0.3559517  0.5        1.        ]\n",
      " [0.05750431 0.5        1.        ]\n",
      " [0.         0.         1.        ]\n",
      " [0.28752157 0.5        1.        ]\n",
      " [0.4387579  0.5        1.        ]\n",
      " [0.47067279 0.5        1.        ]\n",
      " [0.19091432 0.25       1.        ]\n",
      " [0.0920069  0.25       1.        ]\n",
      " [0.24496837 0.75       1.        ]\n",
      " [0.27027026 0.75       1.        ]\n",
      " [0.25531915 0.25       1.        ]\n",
      " [0.13168487 0.5        1.        ]\n",
      " [0.37377805 0.75       1.        ]\n",
      " [1.         1.         1.        ]\n",
      " [0.22052903 0.5        1.        ]]\n"
     ]
    }
   ],
   "source": [
    "#数据划分\n",
    "data_train, data_test = train_test_split(data, test_size=0.3, random_state=66)#随机划分，7：3划分\n",
    "\n",
    "X_test = data_test[:, :2]\n",
    "X_test = np.concatenate((X_test, np.ones((X_test.shape[0],1))), axis=1)\n",
    "y_test = data_test[:, 2]\n",
    "\n",
    "#print(y_train)\n",
    "#特征缩放\n",
    "data_train_max = np.max(data_train,0)\n",
    "data_train_min = np.min(data_train,0)\n",
    "data_train = (data_train-data_train_min)/(data_train_max-data_train_min)#归一化处理\n",
    "#print(data_train)\n",
    "\n",
    "X_train = data_train[:, :2]\n",
    "y_train = data_train[:, 2]\n",
    "X_train_norm = np.concatenate((X_train,np.ones((X_train.shape[0],1))), axis=1)#拼接为X，便于相乘\n",
    "\n",
    "print(X_train_norm)"
   ]
  },
  {
   "cell_type": "code",
   "execution_count": 80,
   "id": "d2e62d59",
   "metadata": {},
   "outputs": [
    {
     "name": "stdout",
     "output_type": "stream",
     "text": [
      "[[ 0.89347729]\n",
      " [-0.01954992]\n",
      " [ 0.08250729]]\n"
     ]
    }
   ],
   "source": [
    "\n",
    "#正规方程\n",
    "X_term = np.matmul(X_train_norm.T,X_train_norm)#X转置*X\n",
    "X_term_inver = np.linalg.inv(X_term)#求逆\n",
    "W = np.matmul(np.matmul(X_term_inver,X_train_norm.T),y_train.reshape(-1,1))\n",
    "print(W)\n"
   ]
  },
  {
   "cell_type": "code",
   "execution_count": 95,
   "id": "ef4e1c9f",
   "metadata": {},
   "outputs": [
    {
     "name": "stdout",
     "output_type": "stream",
     "text": [
      "i:0,loss:0.07545201863643439\n",
      "i:100,loss:0.03997257667962169\n",
      "i:200,loss:0.03629282690876322\n",
      "i:300,loss:0.034784918435956214\n",
      "i:400,loss:0.033521399385761735\n",
      "i:500,loss:0.03236829459510871\n",
      "i:600,loss:0.031308541756346425\n",
      "i:700,loss:0.030333418384897483\n",
      "i:800,loss:0.02943544335366749\n",
      "i:900,loss:0.02860785183541109\n",
      "i:1000,loss:0.027844501812089223\n",
      "i:1100,loss:0.027139814118631308\n",
      "i:1200,loss:0.026488719734194505\n",
      "i:1300,loss:0.025886612140302856\n",
      "i:1400,loss:0.025329304170541987\n",
      "i:1500,loss:0.024812988921417346\n",
      "i:1600,loss:0.02433420434053072\n",
      "i:1700,loss:0.023889801144895396\n",
      "i:1800,loss:0.023476913755052755\n",
      "i:1900,loss:0.023092933960367445\n",
      "i:2000,loss:0.02273548705778023\n",
      "i:2100,loss:0.022402410230655503\n",
      "i:2200,loss:0.022091732956415172\n",
      "i:2300,loss:0.021801659251619008\n",
      "i:2400,loss:0.021530551581232377\n",
      "i:2500,loss:0.021276916275192716\n",
      "i:2600,loss:0.02103939031020912\n",
      "i:2700,loss:0.020816729328150145\n",
      "i:2800,loss:0.020607796774527332\n",
      "i:2900,loss:0.020411554051584978\n",
      "i:3000,loss:0.020227051590469537\n",
      "i:3100,loss:0.020053420755972794\n",
      "i:3200,loss:0.01988986650551114\n",
      "i:3300,loss:0.01973566073139906\n",
      "i:3400,loss:0.01959013622217186\n",
      "i:3500,loss:0.019452681184776104\n",
      "i:3600,loss:0.019322734274937192\n",
      "i:3700,loss:0.019199780087984696\n",
      "i:3800,loss:0.019083345066918295\n",
      "i:3900,loss:0.01897299378857316\n",
      "i:4000,loss:0.018868325592434773\n",
      "i:4100,loss:0.018768971519995837\n",
      "i:4200,loss:0.01867459153557399\n",
      "i:4300,loss:0.018584872002250175\n",
      "i:4400,loss:0.018499523389068778\n",
      "i:4500,loss:0.018418278187888333\n",
      "i:4600,loss:0.01834088902030633\n",
      "i:4700,loss:0.018267126916924756\n",
      "i:4800,loss:0.018196779752891697\n",
      "i:4900,loss:0.01812965082516571\n",
      "i:5000,loss:0.018065557558318176\n",
      "i:5100,loss:0.018004330326928362\n",
      "i:5200,loss:0.01794581138374828\n",
      "i:5300,loss:0.01788985388383112\n",
      "i:5400,loss:0.017836320995737405\n",
      "i:5500,loss:0.017785085091767038\n",
      "i:5600,loss:0.01773602700992046\n",
      "i:5700,loss:0.01768903538097604\n",
      "i:5800,loss:0.017644006014690336\n",
      "i:5900,loss:0.017600841339688963\n",
      "i:6000,loss:0.01755944989212395\n",
      "i:6100,loss:0.017519745848633767\n",
      "i:6200,loss:0.017481648599559363\n",
      "i:6300,loss:0.01744508235874706\n",
      "i:6400,loss:0.01740997580661142\n",
      "i:6500,loss:0.017376261763441172\n",
      "i:6600,loss:0.017343876890212107\n",
      "i:6700,loss:0.01731276141442517\n",
      "i:6800,loss:0.017282858878718686\n",
      "i:6900,loss:0.0172541159102122\n",
      "i:7000,loss:0.017226482008728998\n",
      "i:7100,loss:0.01719990935221548\n",
      "i:7200,loss:0.017174352617831377\n",
      "i:7300,loss:0.0171497688173251\n",
      "i:7400,loss:0.01712611714543666\n",
      "i:7500,loss:0.017103358840185854\n",
      "i:7600,loss:0.017081457054008577\n",
      "i:7700,loss:0.01706037673479886\n",
      "i:7800,loss:0.01704008451600066\n",
      "i:7900,loss:0.017020548614971424\n",
      "i:8000,loss:0.01700173873891022\n",
      "i:8100,loss:0.016983625997707558\n",
      "i:8200,loss:0.016966182823132253\n",
      "i:8300,loss:0.01694938289382341\n",
      "i:8400,loss:0.016933201065603663\n",
      "i:8500,loss:0.016917613306673178\n",
      "i:8600,loss:0.016902596637283336\n",
      "i:8700,loss:0.016888129073524966\n",
      "i:8800,loss:0.01687418957489827\n",
      "i:8900,loss:0.01686075799536115\n",
      "i:9000,loss:0.01684781503757951\n",
      "i:9100,loss:0.01683534221012714\n",
      "i:9200,loss:0.016823321787405185\n",
      "i:9300,loss:0.016811736772070936\n",
      "i:9400,loss:0.01680057085978414\n",
      "i:9500,loss:0.0167898084060953\n",
      "i:9600,loss:0.016779434395315845\n",
      "i:9700,loss:0.016769434411223274\n",
      "i:9800,loss:0.016759794609467166\n",
      "i:9900,loss:0.01675050169155309\n",
      "i:10000,loss:0.016741542880291744\n",
      "i:10100,loss:0.01673290589661002\n",
      "i:10200,loss:0.01672457893762926\n",
      "i:10300,loss:0.016716550655923635\n",
      "i:10400,loss:0.016708810139878714\n",
      "i:10500,loss:0.016701346895076748\n",
      "i:10600,loss:0.01669415082664096\n",
      "i:10700,loss:0.0166872122224766\n",
      "i:10800,loss:0.016680521737351336\n",
      "i:10900,loss:0.016674070377762085\n",
      "i:11000,loss:0.016667849487539334\n",
      "i:11100,loss:0.016661850734143828\n",
      "i:11200,loss:0.016656066095613903\n",
      "i:11300,loss:0.01665048784812475\n",
      "i:11400,loss:0.016645108554123867\n",
      "i:11500,loss:0.016639921051009428\n",
      "i:11600,loss:0.01663491844032082\n",
      "i:11700,loss:0.01663009407741272\n",
      "i:11800,loss:0.01662544156158597\n",
      "i:11900,loss:0.01662095472665066\n",
      "i:12000,loss:0.01661662763189815\n",
      "i:12100,loss:0.016612454553460602\n",
      "i:12200,loss:0.016608429976037876\n",
      "i:12300,loss:0.01660454858497297\n",
      "i:12400,loss:0.01660080525865849\n",
      "i:12500,loss:0.016597195061257584\n",
      "i:12600,loss:0.016593713235724054\n",
      "i:12700,loss:0.01659035519710699\n",
      "i:12800,loss:0.01658711652612649\n",
      "i:12900,loss:0.016583992963007513\n",
      "i:13000,loss:0.016580980401560027\n",
      "i:13100,loss:0.01657807488349393\n",
      "i:13200,loss:0.016575272592958164\n",
      "i:13300,loss:0.016572569851293933\n",
      "i:13400,loss:0.016569963111992474\n",
      "i:13500,loss:0.01656744895584835\n",
      "i:13600,loss:0.016565024086299816\n",
      "i:13700,loss:0.016562685324948187\n",
      "i:13800,loss:0.01656042960724842\n",
      "i:13900,loss:0.01655825397836392\n",
      "i:14000,loss:0.016556155589178397\n",
      "i:14100,loss:0.01655413169245848\n",
      "i:14200,loss:0.016552179639160683\n",
      "i:14300,loss:0.01655029687487699\n",
      "i:14400,loss:0.016548480936413243\n",
      "i:14500,loss:0.016546729448495147\n",
      "i:14600,loss:0.016545040120596627\n",
      "i:14700,loss:0.016543410743885816\n",
      "i:14800,loss:0.016541839188283888\n",
      "i:14900,loss:0.0165403233996324\n",
      "i:15000,loss:0.016538861396964817\n",
      "i:15100,loss:0.016537451269878267\n",
      "i:15200,loss:0.01653609117600154\n",
      "i:15300,loss:0.016534779338555697\n",
      "i:15400,loss:0.01653351404400373\n",
      "i:15500,loss:0.016532293639785874\n",
      "i:15600,loss:0.016531116532137256\n",
      "i:15700,loss:0.016529981183984896\n",
      "i:15800,loss:0.01652888611292092\n",
      "i:15900,loss:0.016527829889249238\n",
      "i:16000,loss:0.01652681113410285\n",
      "i:16100,loss:0.01652582851762921\n",
      "i:16200,loss:0.016524880757241102\n",
      "i:16300,loss:0.016523966615930512\n",
      "i:16400,loss:0.016523084900643317\n",
      "i:16500,loss:0.016522234460712378\n",
      "i:16600,loss:0.01652141418634708\n",
      "i:16700,loss:0.016520623007177004\n",
      "i:16800,loss:0.016519859890847963\n",
      "i:16900,loss:0.01651912384166838\n",
      "i:17000,loss:0.016518413899304175\n",
      "i:17100,loss:0.01651772913752038\n",
      "i:17200,loss:0.016517068662967885\n",
      "i:17300,loss:0.01651643161401347\n",
      "i:17400,loss:0.016515817159611805\n",
      "i:17500,loss:0.01651522449821767\n",
      "i:17600,loss:0.01651465285673708\n",
      "i:17700,loss:0.016514101489515834\n",
      "i:17800,loss:0.01651356967736423\n",
      "i:17900,loss:0.01651305672661649\n",
      "i:18000,loss:0.016512561968223805\n",
      "i:18100,loss:0.016512084756879666\n",
      "i:18200,loss:0.016511624470176407\n",
      "i:18300,loss:0.016511180507791778\n",
      "i:18400,loss:0.016510752290704506\n",
      "i:18500,loss:0.01651033926043777\n",
      "i:18600,loss:0.016509940878329667\n",
      "i:18700,loss:0.01650955662482954\n",
      "i:18800,loss:0.016509185998819467\n",
      "i:18900,loss:0.0165088285169598\n",
      "i:19000,loss:0.016508483713058048\n",
      "i:19100,loss:0.016508151137460132\n",
      "i:19200,loss:0.01650783035646336\n",
      "i:19300,loss:0.016507520951750246\n",
      "i:19400,loss:0.016507222519842407\n",
      "i:19500,loss:0.016506934671573978\n",
      "i:19600,loss:0.016506657031583605\n",
      "i:19700,loss:0.016506389237824617\n",
      "i:19800,loss:0.016506130941092503\n",
      "i:19900,loss:0.01650588180456923\n",
      "[[ 0.88252817]\n",
      " [-0.0046349 ]\n",
      " [ 0.07806751]]\n"
     ]
    }
   ],
   "source": [
    "#模型初始化\n",
    "w = np.random.rand(feature_num+1,1)#随机分布\n",
    "\n",
    "#梯度下降\n",
    "def Loss(y_pred,y):\n",
    "    return np.mean(np.square(y_pred-y))#Loss function\n",
    "\n",
    "repet = 20000\n",
    "learn = 0.01\n",
    "log = []\n",
    "test_log = []\n",
    "for i in range(repet):\n",
    "    y_pre = np.matmul(X_train_norm,w)\n",
    "    term = learn*np.mean((y_pre-y_train.reshape(-1,1))*X_train_norm, axis=0).reshape(-1,1)\n",
    "    w = w -term\n",
    "    y_test_pre = np.matmul(X_test,w)\n",
    "    loss = Loss(y_pre.reshape(-1,1),y_train.reshape(-1,1))\n",
    "    test_loss = Loss(y_test_pre.reshape(-1,1),y_test.reshape(-1,1))\n",
    "    if i%100 == 0:\n",
    "        print('i:{},loss:{}'.format(i,loss))\n",
    "    log.append([i,loss])\n",
    "    test_log.append([i,test_loss])\n",
    "\n",
    "print(w)"
   ]
  },
  {
   "cell_type": "code",
   "execution_count": 96,
   "id": "7ed9bf78",
   "metadata": {},
   "outputs": [
    {
     "data": {
      "text/plain": [
       "[<matplotlib.lines.Line2D at 0x1177749b280>]"
      ]
     },
     "execution_count": 96,
     "metadata": {},
     "output_type": "execute_result"
    },
    {
     "data": {
      "image/png": "[encoded data removed]",
      "text/plain": [
       "<Figure size 432x288 with 1 Axes>"
      ]
     },
     "metadata": {
      "needs_background": "light"
     },
     "output_type": "display_data"
    }
   ],
   "source": [
    "#数据可视化\n",
    "log = np.array(log)\n",
    "plt.plot(log[:,0],log[:,1])"
   ]
  },
  {
   "cell_type": "code",
   "execution_count": 97,
   "id": "fe0c5066",
   "metadata": {},
   "outputs": [
    {
     "data": {
      "text/plain": [
       "[<matplotlib.lines.Line2D at 0x11778a1ceb0>]"
      ]
     },
     "execution_count": 97,
     "metadata": {},
     "output_type": "execute_result"
    },
    {
     "data": {
      "image/png": "[encoded data removed]",
      "text/plain": [
       "<Figure size 432x288 with 1 Axes>"
      ]
     },
     "metadata": {
      "needs_background": "light"
     },
     "output_type": "display_data"
    }
   ],
   "source": [
    "test_log = np.array(test_log)\n",
    "plt.plot(log[:,0],log[:,1])"
   ]
  },
  {
   "cell_type": "code",
   "execution_count": 98,
   "id": "f98056bd",
   "metadata": {},
   "outputs": [
    {
     "data": {
      "text/plain": [
       "<matplotlib.collections.PathCollection at 0x11778b5c7c0>"
      ]
     },
     "execution_count": 98,
     "metadata": {},
     "output_type": "execute_result"
    },
    {
     "data": {
      "image/png": "[encoded data removed]",
      "text/plain": [
       "<Figure size 432x288 with 1 Axes>"
      ]
     },
     "metadata": {
      "needs_background": "light"
     },
     "output_type": "display_data"
    }
   ],
   "source": [
    "y_pred = np.matmul(X_test, w)\n",
    "plt.scatter(X_test[:,0],y_pred,c='r')\n",
    "plt.scatter(X_test[:,0],y_test,c='b')"
   ]
  },
  {
   "cell_type": "code",
   "execution_count": 99,
   "id": "2e5793f8",
   "metadata": {},
   "outputs": [
    {
     "data": {
      "text/plain": [
       "<matplotlib.collections.PathCollection at 0x11778b3b880>"
      ]
     },
     "execution_count": 99,
     "metadata": {},
     "output_type": "execute_result"
    },
    {
     "data": {
      "image/png": "[encoded data removed]",
      "text/plain": [
       "<Figure size 432x288 with 1 Axes>"
      ]
     },
     "metadata": {
      "needs_background": "light"
     },
     "output_type": "display_data"
    }
   ],
   "source": [
    "plt.scatter(X_test[:,1],y_pred,c='r')\n",
    "plt.scatter(X_test[:,1],y_test,c='b')"
   ]
  },
  {
   "cell_type": "code",
   "execution_count": null,
   "id": "490b4652",
   "metadata": {},
   "outputs": [],
   "source": []
  }
 ],
 "metadata": {
  "kernelspec": {
   "display_name": "Python 3 (ipykernel)",
   "language": "python",
   "name": "python3"
  },
  "language_info": {
   "codemirror_mode": {
    "name": "ipython",
    "version": 3
   },
   "file_extension": ".py",
   "mimetype": "text/x-python",
   "name": "python",
   "nbconvert_exporter": "python",
   "pygments_lexer": "ipython3",
   "version": "3.9.12"
  }
 },
 "nbformat": 4,
 "nbformat_minor": 5
}
