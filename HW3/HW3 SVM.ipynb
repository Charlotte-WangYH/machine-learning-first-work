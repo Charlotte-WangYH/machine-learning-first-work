{
 "cells": [
  {
   "cell_type": "code",
   "execution_count": 92,
   "id": "fc46c2a7",
   "metadata": {},
   "outputs": [],
   "source": [
    "from sklearn import svm\n",
    "import matplotlib.pyplot  as plt\n",
    "from sklearn.model_selection import train_test_split\n",
    "from scipy.io import loadmat\n",
    "import numpy as np"
   ]
  },
  {
   "cell_type": "code",
   "execution_count": 93,
   "id": "3d916aa7",
   "metadata": {},
   "outputs": [
    {
     "name": "stdout",
     "output_type": "stream",
     "text": [
      "(51, 2) (51, 1)\n"
     ]
    }
   ],
   "source": [
    "#读取数据\n",
    "filename = 'data1.mat'\n",
    "data = loadmat(filename)\n",
    "#print(data)\n",
    "data_x = data['X']\n",
    "data_y = data['y']\n",
    "print(data_x.shape,data_y.shape)\n",
    "data = np.concatenate((data_y,data_x),axis=1)\n",
    "#print(data)"
   ]
  },
  {
   "cell_type": "code",
   "execution_count": 94,
   "id": "f604ed51",
   "metadata": {},
   "outputs": [
    {
     "name": "stdout",
     "output_type": "stream",
     "text": [
      "(35,) (35, 2)\n",
      "(16,) (16, 2)\n"
     ]
    }
   ],
   "source": [
    "#数据集划分\n",
    "data_train, data_test = train_test_split(data, test_size=0.3, random_state=66)\n",
    "train_y = data_train[:,0]\n",
    "train_x = data_train[:,1:]\n",
    "test_y = data_test[:,0]\n",
    "test_x = data_test[:,1:]\n",
    "print(train_y.shape,train_x.shape)\n",
    "print(test_y.shape,test_x.shape)"
   ]
  },
  {
   "cell_type": "code",
   "execution_count": 95,
   "id": "a07ae95e",
   "metadata": {},
   "outputs": [
    {
     "data": {
      "text/plain": [
       "0.9375"
      ]
     },
     "execution_count": 95,
     "metadata": {},
     "output_type": "execute_result"
    }
   ],
   "source": [
    "#模型训练\n",
    "SVM1 = svm.LinearSVC(loss='squared_hinge',random_state=0)\n",
    "SVM1.fit(train_x,train_y)\n",
    "SVM1.score(test_x,test_y)"
   ]
  },
  {
   "cell_type": "code",
   "execution_count": 96,
   "id": "50345572",
   "metadata": {
    "scrolled": true
   },
   "outputs": [
    {
     "data": {
      "text/plain": [
       "[<matplotlib.lines.Line2D at 0x1dda9432ca0>]"
      ]
     },
     "execution_count": 96,
     "metadata": {},
     "output_type": "execute_result"
    },
    {
     "data": {
      "image/png": "[encoded data removed]",
      "text/plain": [
       "<Figure size 432x288 with 1 Axes>"
      ]
     },
     "metadata": {
      "needs_background": "light"
     },
     "output_type": "display_data"
    }
   ],
   "source": [
    "#可视化\n",
    "a1,a2 = SVM1.coef_[0]\n",
    "b = SVM1.intercept_[0]\n",
    "plt.scatter(test_x[:,0],test_x[:,1],test_y.flatten())\n",
    "plt.plot(test_x[:,0],-a1/a2*test_x[:,0] - b/a2)"
   ]
  },
  {
   "cell_type": "code",
   "execution_count": 97,
   "id": "70d1af2e",
   "metadata": {},
   "outputs": [
    {
     "name": "stdout",
     "output_type": "stream",
     "text": [
      "0.0001 0.75\n",
      "0.001 0.75\n",
      "0.01 0.8125\n",
      "1 0.9375\n",
      "10 0.9375\n",
      "100 0.9375\n",
      "1000 0.9375\n",
      "10000 0.9375\n"
     ]
    }
   ],
   "source": [
    "#C分析\n",
    "C=[0.0001,0.001,0.01,1,10,100,1000,10000]\n",
    "for i in range(8):\n",
    "    SVM1 = svm.LinearSVC(loss='squared_hinge',C=C[i],random_state=0,dual=False)\n",
    "    SVM1.fit(train_x,train_y)\n",
    "    print(C[i],SVM1.score(test_x,test_y))\n"
   ]
  },
  {
   "cell_type": "code",
   "execution_count": 98,
   "id": "591f1179",
   "metadata": {},
   "outputs": [
    {
     "name": "stdout",
     "output_type": "stream",
     "text": [
      "(863, 2) (863, 1)\n"
     ]
    }
   ],
   "source": [
    "#非线性SVM\n",
    "#读取数据\n",
    "filename = 'data2.mat'\n",
    "data = loadmat(filename)\n",
    "#print(data)\n",
    "data_x = data['X']\n",
    "data_y = data['y']\n",
    "print(data_x.shape,data_y.shape)\n",
    "data = np.concatenate((data_y,data_x),axis=1)\n",
    "#print(data)"
   ]
  },
  {
   "cell_type": "code",
   "execution_count": 99,
   "id": "0d2272d3",
   "metadata": {},
   "outputs": [
    {
     "name": "stdout",
     "output_type": "stream",
     "text": [
      "(604,) (604, 2)\n",
      "(259,) (259, 2)\n"
     ]
    }
   ],
   "source": [
    "#数据集划分\n",
    "data_train, data_test = train_test_split(data, test_size=0.3, random_state=66)\n",
    "train_y = data_train[:,0]\n",
    "train_x = data_train[:,1:]\n",
    "test_y = data_test[:,0]\n",
    "test_x = data_test[:,1:]\n",
    "print(train_y.shape,train_x.shape)\n",
    "print(test_y.shape,test_x.shape)"
   ]
  },
  {
   "cell_type": "code",
   "execution_count": 100,
   "id": "c257107e",
   "metadata": {},
   "outputs": [
    {
     "data": {
      "text/plain": [
       "0.8532818532818532"
      ]
     },
     "execution_count": 100,
     "metadata": {},
     "output_type": "execute_result"
    }
   ],
   "source": [
    "#模型训练\n",
    "SVM2 = svm.SVC( kernel='rbf')\n",
    "SVM2.fit(train_x,train_y)\n",
    "SVM2.score(test_x,test_y)"
   ]
  },
  {
   "cell_type": "code",
   "execution_count": 101,
   "id": "cd8f3841",
   "metadata": {},
   "outputs": [
    {
     "data": {
      "text/plain": [
       "0.5366795366795367"
      ]
     },
     "execution_count": 101,
     "metadata": {},
     "output_type": "execute_result"
    }
   ],
   "source": [
    "#分析\n",
    "#kernel='linear'\n",
    "SVM3 = svm.SVC(kernel='linear')\n",
    "SVM3.fit(train_x,train_y)\n",
    "SVM3.score(test_x,test_y)"
   ]
  },
  {
   "cell_type": "code",
   "execution_count": 102,
   "id": "2282d38a",
   "metadata": {},
   "outputs": [
    {
     "data": {
      "text/plain": [
       "0.7065637065637066"
      ]
     },
     "execution_count": 102,
     "metadata": {},
     "output_type": "execute_result"
    }
   ],
   "source": [
    "#kernel='poly'\n",
    "SVM4 = svm.SVC(kernel='poly')\n",
    "SVM4.fit(train_x,train_y)\n",
    "SVM4.score(test_x,test_y)"
   ]
  },
  {
   "cell_type": "code",
   "execution_count": 103,
   "id": "4b2ca147",
   "metadata": {},
   "outputs": [
    {
     "data": {
      "text/plain": [
       "0.5444015444015444"
      ]
     },
     "execution_count": 103,
     "metadata": {},
     "output_type": "execute_result"
    }
   ],
   "source": [
    "#kernel='sigmoid'\n",
    "SVM5 = svm.SVC(kernel='sigmoid')\n",
    "SVM5.fit(train_x,train_y)\n",
    "SVM5.score(test_x,test_y)"
   ]
  },
  {
   "cell_type": "code",
   "execution_count": 104,
   "id": "e2087c51",
   "metadata": {},
   "outputs": [],
   "source": [
    "#kernel='precomputed'\n",
    "#输入阵必须是方正，不可用"
   ]
  },
  {
   "cell_type": "code",
   "execution_count": 105,
   "id": "a17c04a0",
   "metadata": {},
   "outputs": [
    {
     "name": "stdout",
     "output_type": "stream",
     "text": [
      "(211, 2) (211, 1)\n"
     ]
    }
   ],
   "source": [
    "#Bonus\n",
    "#读取数据\n",
    "filename = 'data3.mat'\n",
    "data = loadmat(filename)\n",
    "#print(data)\n",
    "data_x = data['X']\n",
    "data_y = data['y']\n",
    "print(data_x.shape,data_y.shape)\n",
    "data = np.concatenate((data_y,data_x),axis=1)\n",
    "#print(data)"
   ]
  },
  {
   "cell_type": "code",
   "execution_count": 106,
   "id": "76388ab9",
   "metadata": {},
   "outputs": [
    {
     "name": "stdout",
     "output_type": "stream",
     "text": [
      "(147,) (147, 2)\n",
      "(64,) (64, 2)\n"
     ]
    }
   ],
   "source": [
    "#数据集划分\n",
    "data_train, data_test = train_test_split(data, test_size=0.3, random_state=66)\n",
    "train_y = data_train[:,0]\n",
    "train_x = data_train[:,1:]\n",
    "test_y = data_test[:,0]\n",
    "test_x = data_test[:,1:]\n",
    "print(train_y.shape,train_x.shape)\n",
    "print(test_y.shape,test_x.shape)"
   ]
  },
  {
   "cell_type": "code",
   "execution_count": 107,
   "id": "2a54b114",
   "metadata": {},
   "outputs": [
    {
     "data": {
      "text/plain": [
       "0.953125"
      ]
     },
     "execution_count": 107,
     "metadata": {},
     "output_type": "execute_result"
    }
   ],
   "source": [
    "#data3模型训练\n",
    "SVM_1 = svm.LinearSVC(loss='squared_hinge',random_state=0)\n",
    "SVM_1.fit(train_x,train_y)\n",
    "SVM_1.score(test_x,test_y)"
   ]
  },
  {
   "cell_type": "code",
   "execution_count": 108,
   "id": "7a6120df",
   "metadata": {},
   "outputs": [
    {
     "data": {
      "text/plain": [
       "0.953125"
      ]
     },
     "execution_count": 108,
     "metadata": {},
     "output_type": "execute_result"
    }
   ],
   "source": [
    "SVM_2 = svm.SVC( kernel='rbf')\n",
    "SVM_2.fit(train_x,train_y)\n",
    "SVM_2.score(test_x,test_y)"
   ]
  },
  {
   "cell_type": "code",
   "execution_count": 109,
   "id": "32e1ecfb",
   "metadata": {},
   "outputs": [
    {
     "data": {
      "text/plain": [
       "0.921875"
      ]
     },
     "execution_count": 109,
     "metadata": {},
     "output_type": "execute_result"
    }
   ],
   "source": [
    "SVM_3 = svm.SVC(kernel='linear')\n",
    "SVM_3.fit(train_x,train_y)\n",
    "SVM_3.score(test_x,test_y)"
   ]
  },
  {
   "cell_type": "code",
   "execution_count": 110,
   "id": "37db7893",
   "metadata": {},
   "outputs": [
    {
     "data": {
      "text/plain": [
       "0.84375"
      ]
     },
     "execution_count": 110,
     "metadata": {},
     "output_type": "execute_result"
    }
   ],
   "source": [
    "SVM_4 = svm.SVC(kernel='poly')\n",
    "SVM_4.fit(train_x,train_y)\n",
    "SVM_4.score(test_x,test_y)"
   ]
  },
  {
   "cell_type": "code",
   "execution_count": 111,
   "id": "004f7b9e",
   "metadata": {},
   "outputs": [
    {
     "data": {
      "text/plain": [
       "0.859375"
      ]
     },
     "execution_count": 111,
     "metadata": {},
     "output_type": "execute_result"
    }
   ],
   "source": [
    "SVM_5 = svm.SVC(kernel='sigmoid')\n",
    "SVM_5.fit(train_x,train_y)\n",
    "SVM_5.score(test_x,test_y)"
   ]
  },
  {
   "cell_type": "code",
   "execution_count": 112,
   "id": "1f43203c",
   "metadata": {},
   "outputs": [],
   "source": [
    "#归一化\n",
    "maxnum = np.max(data_train,0,keepdims=True)\n",
    "minnum = np.min(data_train,0,keepdims=True)\n",
    "data_train = (data_train -minnum)/(maxnum -minnum)\n",
    "data_test = (data_test -minnum)/(maxnum -minnum)\n",
    "train_y = data_train[:,0]\n",
    "train_x = data_train[:,1:]\n",
    "test_y = data_test[:,0]\n",
    "test_x = data_test[:,1:]"
   ]
  },
  {
   "cell_type": "code",
   "execution_count": 113,
   "id": "680b95d9",
   "metadata": {},
   "outputs": [
    {
     "name": "stdout",
     "output_type": "stream",
     "text": [
      "0.0001 0.625\n",
      "0.001 0.71875\n",
      "0.01 0.9375\n",
      "1 0.96875\n",
      "10 0.96875\n",
      "100 0.96875\n",
      "1000 0.96875\n"
     ]
    }
   ],
   "source": [
    "#LinearSVC\n",
    "c = [0.0001,0.001,0.01,1,10,100,1000]\n",
    "for  i in range(7):\n",
    "    LSVM = svm.LinearSVC(loss='squared_hinge',C=c[i],random_state=0,dual=False)\n",
    "    LSVM.fit(train_x,train_y)\n",
    "    print(c[i],LSVM.score(test_x,test_y))"
   ]
  },
  {
   "cell_type": "code",
   "execution_count": 114,
   "id": "ddf1f34d",
   "metadata": {},
   "outputs": [
    {
     "name": "stdout",
     "output_type": "stream",
     "text": [
      "0.0001 0.1 0.46875\n",
      "0.0001 0.2 0.46875\n",
      "0.0001 0.3 0.46875\n",
      "0.001 0.1 0.46875\n",
      "0.001 0.2 0.46875\n",
      "0.001 0.3 0.46875\n",
      "0.01 0.1 0.46875\n",
      "0.01 0.2 0.46875\n",
      "0.01 0.3 0.46875\n",
      "1 0.1 0.953125\n",
      "1 0.2 0.953125\n",
      "1 0.3 0.90625\n",
      "10 0.1 0.9375\n",
      "10 0.2 0.875\n",
      "10 0.3 0.921875\n",
      "100 0.1 0.90625\n",
      "100 0.2 0.921875\n",
      "100 0.3 0.890625\n",
      "1000 0.1 0.890625\n",
      "1000 0.2 0.890625\n",
      "1000 0.3 0.921875\n"
     ]
    }
   ],
   "source": [
    "#SVC,kernel='rbf'\n",
    "g = [0.1,0.2,0.3]\n",
    "for i in range(7):\n",
    "    for j in range(3):\n",
    "        RSVM = svm.SVC(C=c[i],kernel='rbf',gamma=g[j])\n",
    "        RSVM.fit(train_x,train_y)\n",
    "        print(c[i],g[j],RSVM.score(test_x,test_y))"
   ]
  },
  {
   "cell_type": "code",
   "execution_count": null,
   "id": "51992c7d",
   "metadata": {},
   "outputs": [],
   "source": []
  },
  {
   "cell_type": "code",
   "execution_count": null,
   "id": "34a963fb",
   "metadata": {},
   "outputs": [],
   "source": []
  }
 ],
 "metadata": {
  "kernelspec": {
   "display_name": "Python [conda env:root] *",
   "language": "python",
   "name": "conda-root-py"
  },
  "language_info": {
   "codemirror_mode": {
    "name": "ipython",
    "version": 3
   },
   "file_extension": ".py",
   "mimetype": "text/x-python",
   "name": "python",
   "nbconvert_exporter": "python",
   "pygments_lexer": "ipython3",
   "version": "3.9.12"
  }
 },
 "nbformat": 4,
 "nbformat_minor": 5
}
