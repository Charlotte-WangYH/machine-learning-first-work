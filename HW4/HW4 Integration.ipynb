{
 "cells": [
  {
   "cell_type": "code",
   "execution_count": 2,
   "id": "3cb2f431",
   "metadata": {},
   "outputs": [],
   "source": [
    "from sklearn import svm\n",
    "import matplotlib.pyplot  as plt\n",
    "from sklearn.model_selection import train_test_split\n",
    "from scipy.io import loadmat\n",
    "import numpy as np"
   ]
  },
  {
   "cell_type": "code",
   "execution_count": 3,
   "id": "5dbceb63",
   "metadata": {},
   "outputs": [
    {
     "name": "stdout",
     "output_type": "stream",
     "text": [
      "(863, 2) (863, 1)\n"
     ]
    }
   ],
   "source": [
    "filename = 'data1.mat'\n",
    "data = loadmat(filename)\n",
    "#print(data)\n",
    "data_x = data['X']\n",
    "data_y = data['y']\n",
    "print(data_x.shape,data_y.shape)\n",
    "data = np.concatenate((data_y,data_x),axis=1)\n",
    "#print(data)"
   ]
  },
  {
   "cell_type": "code",
   "execution_count": 22,
   "id": "2c790a46",
   "metadata": {},
   "outputs": [
    {
     "name": "stdout",
     "output_type": "stream",
     "text": [
      "(604,) (604, 2)\n",
      "(259,) (259, 2)\n"
     ]
    }
   ],
   "source": [
    "#数据集划分\n",
    "data_train, data_test = train_test_split(data, test_size=0.3, random_state=66)\n",
    "train_y = data_train[:,0]\n",
    "train_x = data_train[:,1:]\n",
    "test_y = data_test[:,0]\n",
    "test_x = data_test[:,1:]\n",
    "print(train_y.shape,train_x.shape)\n",
    "print(test_y.shape,test_x.shape)"
   ]
  },
  {
   "cell_type": "code",
   "execution_count": 27,
   "id": "49956967",
   "metadata": {},
   "outputs": [],
   "source": [
    "from sklearn.ensemble import AdaBoostClassifier\n",
    "from sklearn.datasets import make_classification\n",
    "from sklearn.tree import DecisionTreeClassifier"
   ]
  },
  {
   "cell_type": "code",
   "execution_count": 24,
   "id": "118c2b85",
   "metadata": {},
   "outputs": [
    {
     "data": {
      "text/plain": [
       "<matplotlib.collections.PathCollection at 0x1f09ca1bf70>"
      ]
     },
     "execution_count": 24,
     "metadata": {},
     "output_type": "execute_result"
    },
    {
     "data": {
      "image/png": "[encoded data removed]",
      "text/plain": [
       "<Figure size 432x288 with 1 Axes>"
      ]
     },
     "metadata": {
      "needs_background": "light"
     },
     "output_type": "display_data"
    }
   ],
   "source": [
    "plt.scatter(test_x[:,0], test_x[:,1], marker='.',c=test_y)"
   ]
  },
  {
   "cell_type": "code",
   "execution_count": 37,
   "id": "2583b60a",
   "metadata": {},
   "outputs": [
    {
     "data": {
      "text/plain": [
       "0.9845559845559846"
      ]
     },
     "execution_count": 37,
     "metadata": {},
     "output_type": "execute_result"
    }
   ],
   "source": [
    "#模型训练\n",
    "#决策树\n",
    "clf = AdaBoostClassifier(DecisionTreeClassifier(max_depth=2,\n",
    "                                                min_samples_split=20,\n",
    "                                                min_samples_leaf=5),n_estimators=100, random_state=0,learning_rate=1)\n",
    "clf.fit(train_x,train_y)\n",
    "#print(clf.predict(test_x))\n",
    "clf.score(test_x, test_y)"
   ]
  },
  {
   "cell_type": "code",
   "execution_count": 70,
   "id": "2d29f137",
   "metadata": {},
   "outputs": [
    {
     "data": {
      "text/plain": [
       "0.9691119691119691"
      ]
     },
     "execution_count": 70,
     "metadata": {},
     "output_type": "execute_result"
    }
   ],
   "source": [
    "#分类器数量测试num=50\n",
    "#决策树\n",
    "clf = AdaBoostClassifier(DecisionTreeClassifier(max_depth=2,\n",
    "                                                min_samples_split=20,\n",
    "                                                min_samples_leaf=5),n_estimators=50, random_state=0,learning_rate=1)\n",
    "clf.fit(train_x,train_y)\n",
    "clf.score(test_x, test_y)"
   ]
  },
  {
   "cell_type": "code",
   "execution_count": 71,
   "id": "b08b197f",
   "metadata": {},
   "outputs": [
    {
     "data": {
      "text/plain": [
       "0.9806949806949807"
      ]
     },
     "execution_count": 71,
     "metadata": {},
     "output_type": "execute_result"
    }
   ],
   "source": [
    "#分类器数量测试num=200\n",
    "#决策树\n",
    "clf = AdaBoostClassifier(DecisionTreeClassifier(max_depth=2,\n",
    "                                                min_samples_split=20,\n",
    "                                                min_samples_leaf=5),n_estimators=200, random_state=0,learning_rate=1)\n",
    "clf.fit(train_x,train_y)\n",
    "clf.score(test_x, test_y)"
   ]
  },
  {
   "cell_type": "code",
   "execution_count": 74,
   "id": "9eb49c6d",
   "metadata": {},
   "outputs": [
    {
     "data": {
      "text/plain": [
       "0.9768339768339769"
      ]
     },
     "execution_count": 74,
     "metadata": {},
     "output_type": "execute_result"
    }
   ],
   "source": [
    "#分类器数量测试num=300\n",
    "#决策树\n",
    "clf = AdaBoostClassifier(DecisionTreeClassifier(max_depth=2,\n",
    "                                                min_samples_split=20,\n",
    "                                                min_samples_leaf=5),n_estimators=300, random_state=0,learning_rate=1)\n",
    "clf.fit(train_x,train_y)\n",
    "clf.score(test_x, test_y)"
   ]
  },
  {
   "cell_type": "code",
   "execution_count": 79,
   "id": "49a69b30",
   "metadata": {},
   "outputs": [
    {
     "data": {
      "text/plain": [
       "0.9806949806949807"
      ]
     },
     "execution_count": 79,
     "metadata": {},
     "output_type": "execute_result"
    }
   ],
   "source": [
    "#分类器数量测试num=300\n",
    "#决策树\n",
    "clf = AdaBoostClassifier(DecisionTreeClassifier(max_depth=2,\n",
    "                                                min_samples_split=20,\n",
    "                                                min_samples_leaf=5),n_estimators=300, random_state=0,learning_rate=0.8)\n",
    "clf.fit(train_x,train_y)\n",
    "clf.score(test_x, test_y)"
   ]
  },
  {
   "cell_type": "code",
   "execution_count": 38,
   "id": "043af72d",
   "metadata": {},
   "outputs": [
    {
     "data": {
      "text/plain": [
       "<matplotlib.collections.PathCollection at 0x1f09cab9a00>"
      ]
     },
     "execution_count": 38,
     "metadata": {},
     "output_type": "execute_result"
    },
    {
     "data": {
      "image/png": "[encoded data removed]",
      "text/plain": [
       "<Figure size 432x288 with 1 Axes>"
      ]
     },
     "metadata": {
      "needs_background": "light"
     },
     "output_type": "display_data"
    }
   ],
   "source": [
    "plt.scatter(test_x[:,0], test_x[:,1], marker='.',c=clf.predict(test_x))"
   ]
  },
  {
   "cell_type": "code",
   "execution_count": 53,
   "id": "f63c6be5",
   "metadata": {},
   "outputs": [
    {
     "data": {
      "text/plain": [
       "0.5444015444015444"
      ]
     },
     "execution_count": 53,
     "metadata": {},
     "output_type": "execute_result"
    }
   ],
   "source": [
    "#朴素贝叶斯\n",
    "import sklearn.naive_bayes as bayes\n",
    "clf1 = AdaBoostClassifier(bayes.BernoulliNB(alpha=1.0,binarize=0.0,fit_prior=True,class_prior=None),n_estimators=100,random_state=0,learning_rate=1)\n",
    "clf1.fit(train_x,train_y)\n",
    "clf1.score(test_x, test_y)"
   ]
  },
  {
   "cell_type": "code",
   "execution_count": 65,
   "id": "af4fec20",
   "metadata": {},
   "outputs": [
    {
     "data": {
      "text/plain": [
       "0.5328185328185329"
      ]
     },
     "execution_count": 65,
     "metadata": {},
     "output_type": "execute_result"
    }
   ],
   "source": [
    "#逻辑回归\n",
    "from sklearn.linear_model import LogisticRegression\n",
    "clf2 = AdaBoostClassifier(LogisticRegression(penalty='l2',dual=False,n_jobs=1,random_state=20),n_estimators=50,random_state=0,learning_rate=1)\n",
    "clf2.fit(train_x,train_y)\n",
    "clf2.score(test_x, test_y)"
   ]
  },
  {
   "cell_type": "code",
   "execution_count": 81,
   "id": "1e253d70",
   "metadata": {},
   "outputs": [
    {
     "data": {
      "text/plain": [
       "0.5444015444015444"
      ]
     },
     "execution_count": 81,
     "metadata": {},
     "output_type": "execute_result"
    }
   ],
   "source": [
    "#svm\n",
    "from sklearn.svm import SVC\n",
    "clf3 = AdaBoostClassifier(SVC( kernel='rbf'),algorithm='SAMME',n_estimators=100,random_state=0,learning_rate=1)\n",
    "clf3.fit(train_x,train_y)\n",
    "clf3.score(test_x, test_y)"
   ]
  },
  {
   "cell_type": "code",
   "execution_count": 91,
   "id": "0d6f82f5",
   "metadata": {},
   "outputs": [
    {
     "data": {
      "text/plain": [
       "0.9845559845559846"
      ]
     },
     "execution_count": 91,
     "metadata": {},
     "output_type": "execute_result"
    }
   ],
   "source": [
    "#随机森林\n",
    "from sklearn.ensemble import RandomForestClassifier\n",
    "clf_a = RandomForestClassifier(max_depth=10, random_state=0,n_estimators=25)\n",
    "clf_a.fit(train_x,train_y)\n",
    "clf_a.score(test_x, test_y)"
   ]
  },
  {
   "cell_type": "code",
   "execution_count": 105,
   "id": "5bf3fa95",
   "metadata": {},
   "outputs": [
    {
     "name": "stdout",
     "output_type": "stream",
     "text": [
      "25 0.9845559845559846\n",
      "50 0.9845559845559846\n",
      "75 0.9845559845559846\n",
      "100 0.9845559845559846\n",
      "125 0.9884169884169884\n",
      "150 0.9884169884169884\n",
      "175 0.9845559845559846\n",
      "200 0.9806949806949807\n",
      "225 0.9884169884169884\n",
      "250 0.9884169884169884\n",
      "275 0.9884169884169884\n",
      "300 0.9884169884169884\n",
      "325 0.9845559845559846\n",
      "350 0.9806949806949807\n",
      "375 0.9806949806949807\n",
      "400 0.9806949806949807\n",
      "425 0.9806949806949807\n",
      "450 0.9806949806949807\n",
      "475 0.9806949806949807\n"
     ]
    }
   ],
   "source": [
    "#调参\n",
    "#n_estimators\n",
    "for i in range(25,500,25):\n",
    "    clf_a1 = RandomForestClassifier(n_estimators=i,criterion='gini',max_depth=10 ,min_samples_split=2,random_state=0)\n",
    "    clf_a1.fit(train_x,train_y)\n",
    "    print(i,clf_a1.score(test_x, test_y))"
   ]
  },
  {
   "cell_type": "code",
   "execution_count": 107,
   "id": "0695551d",
   "metadata": {},
   "outputs": [
    {
     "name": "stdout",
     "output_type": "stream",
     "text": [
      "0.9884169884169884\n"
     ]
    }
   ],
   "source": [
    "#调参\n",
    "#criterion\n",
    "clf_a2 = RandomForestClassifier(n_estimators=100,criterion='entropy',max_depth=10 ,min_samples_split=2,random_state=0)\n",
    "clf_a2.fit(train_x,train_y)\n",
    "print(clf_a2.score(test_x, test_y))"
   ]
  },
  {
   "cell_type": "code",
   "execution_count": 108,
   "id": "40b2b0f5",
   "metadata": {},
   "outputs": [
    {
     "name": "stdout",
     "output_type": "stream",
     "text": [
      "2 0.7567567567567568\n",
      "3 0.8262548262548263\n",
      "4 0.8571428571428571\n",
      "5 0.8957528957528957\n",
      "6 0.915057915057915\n",
      "7 0.9575289575289575\n",
      "8 0.9768339768339769\n",
      "9 0.9884169884169884\n",
      "10 0.9884169884169884\n",
      "11 0.9845559845559846\n",
      "12 0.9884169884169884\n",
      "13 0.9884169884169884\n",
      "14 0.9884169884169884\n",
      "15 0.9884169884169884\n",
      "16 0.9884169884169884\n",
      "17 0.9884169884169884\n",
      "18 0.9884169884169884\n",
      "19 0.9884169884169884\n"
     ]
    }
   ],
   "source": [
    "#max_depth\n",
    "for j in range(2,20):\n",
    "    clf_a3 = RandomForestClassifier(n_estimators=100,criterion='entropy',max_depth=j ,min_samples_split=2,random_state=0)\n",
    "    clf_a3.fit(train_x,train_y)\n",
    "    print(j,clf_a3.score(test_x, test_y))"
   ]
  },
  {
   "cell_type": "code",
   "execution_count": 109,
   "id": "c76eadaf",
   "metadata": {},
   "outputs": [
    {
     "name": "stdout",
     "output_type": "stream",
     "text": [
      "2 0.9884169884169884\n",
      "3 0.9845559845559846\n",
      "4 0.9768339768339769\n",
      "5 0.9768339768339769\n",
      "6 0.9768339768339769\n",
      "7 0.9768339768339769\n",
      "8 0.972972972972973\n",
      "9 0.9652509652509652\n",
      "10 0.9652509652509652\n",
      "11 0.9652509652509652\n",
      "12 0.9652509652509652\n",
      "13 0.972972972972973\n",
      "14 0.9691119691119691\n",
      "15 0.9691119691119691\n",
      "16 0.9691119691119691\n",
      "17 0.9691119691119691\n",
      "18 0.9691119691119691\n",
      "19 0.9691119691119691\n"
     ]
    }
   ],
   "source": [
    "#min_samples_split\n",
    "for j in range(2,20):\n",
    "    clf_a4 = RandomForestClassifier(n_estimators=100,criterion='entropy',max_depth= 9,min  _samples_split=j,random_state=0)\n",
    "    clf_a4.fit(train_x,train_y)\n",
    "    print(j,clf_a4.score(test_x, test_y))"
   ]
  },
  {
   "cell_type": "code",
   "execution_count": 172,
   "id": "bb99d40a",
   "metadata": {},
   "outputs": [],
   "source": [
    "#使用Iris数据集分别对adaboost和随机森林进行训练\n",
    "from sklearn.datasets import load_iris\n",
    "X, y = load_iris(return_X_y=True)\n",
    "X_train, X_test, Y_train, Y_test = train_test_split(X, y, test_size=0.3, random_state=66) # 数据划分"
   ]
  },
  {
   "cell_type": "code",
   "execution_count": 173,
   "id": "73749f6a",
   "metadata": {},
   "outputs": [
    {
     "data": {
      "text/plain": [
       "0.9111111111111111"
      ]
     },
     "execution_count": 173,
     "metadata": {},
     "output_type": "execute_result"
    }
   ],
   "source": [
    "#adaboost\n",
    "clf_c = AdaBoostClassifier(DecisionTreeClassifier(max_depth=2,\n",
    "                                                min_samples_split=50,\n",
    "                                                min_samples_leaf=6),n_estimators=100, random_state=0,learning_rate=1)\n",
    "clf_c.fit(X_train,Y_train)\n",
    "clf_c.score(X_test,Y_test)"
   ]
  },
  {
   "cell_type": "code",
   "execution_count": 150,
   "id": "10aa3d6b",
   "metadata": {},
   "outputs": [
    {
     "data": {
      "text/plain": [
       "0.9777777777777777"
      ]
     },
     "execution_count": 150,
     "metadata": {},
     "output_type": "execute_result"
    }
   ],
   "source": [
    "clf_c = AdaBoostClassifier(LogisticRegression(),n_estimators=300, random_state=0,learning_rate=0.8)\n",
    "clf_c.fit(X_train,Y_train)\n",
    "clf_c.score(X_test,Y_test)"
   ]
  },
  {
   "cell_type": "code",
   "execution_count": 175,
   "id": "7974fd38",
   "metadata": {},
   "outputs": [
    {
     "name": "stdout",
     "output_type": "stream",
     "text": [
      "25 1 0.6444444444444445\n",
      "25 2 0.9111111111111111\n",
      "25 3 0.9333333333333333\n",
      "25 4 0.9333333333333333\n",
      "25 5 0.9111111111111111\n",
      "25 6 0.9111111111111111\n",
      "25 7 0.9111111111111111\n",
      "25 8 0.9111111111111111\n",
      "25 9 0.9111111111111111\n",
      "25 10 0.9111111111111111\n",
      "25 11 0.9111111111111111\n",
      "25 12 0.9111111111111111\n",
      "25 13 0.9111111111111111\n",
      "25 14 0.9111111111111111\n",
      "25 15 0.9111111111111111\n",
      "25 16 0.9111111111111111\n",
      "25 17 0.9111111111111111\n",
      "25 18 0.9111111111111111\n",
      "25 19 0.9111111111111111\n",
      "50 1 0.8222222222222222\n",
      "50 2 0.9333333333333333\n",
      "50 3 0.9333333333333333\n",
      "50 4 0.9333333333333333\n",
      "50 5 0.9333333333333333\n",
      "50 6 0.9333333333333333\n",
      "50 7 0.9333333333333333\n",
      "50 8 0.9333333333333333\n",
      "50 9 0.9333333333333333\n",
      "50 10 0.9333333333333333\n",
      "50 11 0.9333333333333333\n",
      "50 12 0.9333333333333333\n",
      "50 13 0.9333333333333333\n",
      "50 14 0.9333333333333333\n",
      "50 15 0.9333333333333333\n",
      "50 16 0.9333333333333333\n",
      "50 17 0.9333333333333333\n",
      "50 18 0.9333333333333333\n",
      "50 19 0.9333333333333333\n",
      "75 1 0.9111111111111111\n",
      "75 2 0.9333333333333333\n",
      "75 3 0.9333333333333333\n",
      "75 4 0.9333333333333333\n",
      "75 5 0.9333333333333333\n",
      "75 6 0.9333333333333333\n",
      "75 7 0.9333333333333333\n",
      "75 8 0.9333333333333333\n",
      "75 9 0.9333333333333333\n",
      "75 10 0.9333333333333333\n",
      "75 11 0.9333333333333333\n",
      "75 12 0.9333333333333333\n",
      "75 13 0.9333333333333333\n",
      "75 14 0.9333333333333333\n",
      "75 15 0.9333333333333333\n",
      "75 16 0.9333333333333333\n",
      "75 17 0.9333333333333333\n",
      "75 18 0.9333333333333333\n",
      "75 19 0.9333333333333333\n",
      "100 1 0.9111111111111111\n",
      "100 2 0.9333333333333333\n",
      "100 3 0.9333333333333333\n",
      "100 4 0.9333333333333333\n",
      "100 5 0.9333333333333333\n",
      "100 6 0.9333333333333333\n",
      "100 7 0.9333333333333333\n",
      "100 8 0.9333333333333333\n",
      "100 9 0.9333333333333333\n",
      "100 10 0.9333333333333333\n",
      "100 11 0.9333333333333333\n",
      "100 12 0.9333333333333333\n",
      "100 13 0.9333333333333333\n",
      "100 14 0.9333333333333333\n",
      "100 15 0.9333333333333333\n",
      "100 16 0.9333333333333333\n",
      "100 17 0.9333333333333333\n",
      "100 18 0.9333333333333333\n",
      "100 19 0.9333333333333333\n",
      "125 1 0.9111111111111111\n",
      "125 2 0.9333333333333333\n",
      "125 3 0.9333333333333333\n",
      "125 4 0.9333333333333333\n",
      "125 5 0.9333333333333333\n",
      "125 6 0.9333333333333333\n",
      "125 7 0.9333333333333333\n",
      "125 8 0.9333333333333333\n",
      "125 9 0.9333333333333333\n",
      "125 10 0.9333333333333333\n",
      "125 11 0.9333333333333333\n",
      "125 12 0.9333333333333333\n",
      "125 13 0.9333333333333333\n",
      "125 14 0.9333333333333333\n",
      "125 15 0.9333333333333333\n",
      "125 16 0.9333333333333333\n",
      "125 17 0.9333333333333333\n",
      "125 18 0.9333333333333333\n",
      "125 19 0.9333333333333333\n",
      "150 1 0.9111111111111111\n",
      "150 2 0.9333333333333333\n",
      "150 3 0.9333333333333333\n",
      "150 4 0.9333333333333333\n",
      "150 5 0.9333333333333333\n",
      "150 6 0.9333333333333333\n",
      "150 7 0.9333333333333333\n",
      "150 8 0.9333333333333333\n",
      "150 9 0.9333333333333333\n",
      "150 10 0.9333333333333333\n",
      "150 11 0.9333333333333333\n",
      "150 12 0.9333333333333333\n",
      "150 13 0.9333333333333333\n",
      "150 14 0.9333333333333333\n",
      "150 15 0.9333333333333333\n",
      "150 16 0.9333333333333333\n",
      "150 17 0.9333333333333333\n",
      "150 18 0.9333333333333333\n",
      "150 19 0.9333333333333333\n",
      "175 1 0.9111111111111111\n",
      "175 2 0.9333333333333333\n",
      "175 3 0.9333333333333333\n",
      "175 4 0.9333333333333333\n",
      "175 5 0.9333333333333333\n",
      "175 6 0.9333333333333333\n",
      "175 7 0.9333333333333333\n",
      "175 8 0.9333333333333333\n",
      "175 9 0.9333333333333333\n",
      "175 10 0.9333333333333333\n",
      "175 11 0.9333333333333333\n",
      "175 12 0.9333333333333333\n",
      "175 13 0.9333333333333333\n",
      "175 14 0.9333333333333333\n",
      "175 15 0.9333333333333333\n",
      "175 16 0.9333333333333333\n",
      "175 17 0.9333333333333333\n",
      "175 18 0.9333333333333333\n",
      "175 19 0.9333333333333333\n",
      "200 1 0.9111111111111111\n",
      "200 2 0.9333333333333333\n",
      "200 3 0.9333333333333333\n",
      "200 4 0.9333333333333333\n",
      "200 5 0.9333333333333333\n",
      "200 6 0.9333333333333333\n",
      "200 7 0.9333333333333333\n",
      "200 8 0.9333333333333333\n",
      "200 9 0.9333333333333333\n",
      "200 10 0.9333333333333333\n",
      "200 11 0.9333333333333333\n",
      "200 12 0.9333333333333333\n",
      "200 13 0.9333333333333333\n",
      "200 14 0.9333333333333333\n",
      "200 15 0.9333333333333333\n",
      "200 16 0.9333333333333333\n",
      "200 17 0.9333333333333333\n",
      "200 18 0.9333333333333333\n",
      "200 19 0.9333333333333333\n",
      "225 1 0.9111111111111111\n",
      "225 2 0.9333333333333333\n",
      "225 3 0.9333333333333333\n",
      "225 4 0.9333333333333333\n",
      "225 5 0.9333333333333333\n",
      "225 6 0.9333333333333333\n",
      "225 7 0.9333333333333333\n",
      "225 8 0.9333333333333333\n",
      "225 9 0.9333333333333333\n",
      "225 10 0.9333333333333333\n",
      "225 11 0.9333333333333333\n",
      "225 12 0.9333333333333333\n",
      "225 13 0.9333333333333333\n",
      "225 14 0.9333333333333333\n",
      "225 15 0.9333333333333333\n",
      "225 16 0.9333333333333333\n",
      "225 17 0.9333333333333333\n",
      "225 18 0.9333333333333333\n",
      "225 19 0.9333333333333333\n",
      "250 1 0.9111111111111111\n",
      "250 2 0.9333333333333333\n",
      "250 3 0.9333333333333333\n",
      "250 4 0.9333333333333333\n",
      "250 5 0.9333333333333333\n",
      "250 6 0.9333333333333333\n",
      "250 7 0.9333333333333333\n",
      "250 8 0.9333333333333333\n",
      "250 9 0.9333333333333333\n",
      "250 10 0.9333333333333333\n",
      "250 11 0.9333333333333333\n",
      "250 12 0.9333333333333333\n",
      "250 13 0.9333333333333333\n",
      "250 14 0.9333333333333333\n",
      "250 15 0.9333333333333333\n",
      "250 16 0.9333333333333333\n",
      "250 17 0.9333333333333333\n",
      "250 18 0.9333333333333333\n",
      "250 19 0.9333333333333333\n",
      "275 1 0.9111111111111111\n",
      "275 2 0.9333333333333333\n",
      "275 3 0.9333333333333333\n",
      "275 4 0.9333333333333333\n",
      "275 5 0.9333333333333333\n",
      "275 6 0.9333333333333333\n",
      "275 7 0.9333333333333333\n",
      "275 8 0.9333333333333333\n",
      "275 9 0.9333333333333333\n",
      "275 10 0.9333333333333333\n",
      "275 11 0.9333333333333333\n",
      "275 12 0.9333333333333333\n",
      "275 13 0.9333333333333333\n",
      "275 14 0.9333333333333333\n",
      "275 15 0.9333333333333333\n",
      "275 16 0.9333333333333333\n",
      "275 17 0.9333333333333333\n",
      "275 18 0.9333333333333333\n",
      "275 19 0.9333333333333333\n",
      "300 1 0.9111111111111111\n",
      "300 2 0.9333333333333333\n",
      "300 3 0.9333333333333333\n",
      "300 4 0.9333333333333333\n",
      "300 5 0.9333333333333333\n",
      "300 6 0.9333333333333333\n",
      "300 7 0.9333333333333333\n",
      "300 8 0.9333333333333333\n",
      "300 9 0.9333333333333333\n",
      "300 10 0.9333333333333333\n",
      "300 11 0.9333333333333333\n",
      "300 12 0.9333333333333333\n",
      "300 13 0.9333333333333333\n",
      "300 14 0.9333333333333333\n",
      "300 15 0.9333333333333333\n",
      "300 16 0.9333333333333333\n",
      "300 17 0.9333333333333333\n",
      "300 18 0.9333333333333333\n",
      "300 19 0.9333333333333333\n",
      "325 1 0.9111111111111111\n",
      "325 2 0.9333333333333333\n",
      "325 3 0.9333333333333333\n",
      "325 4 0.9333333333333333\n",
      "325 5 0.9333333333333333\n",
      "325 6 0.9333333333333333\n",
      "325 7 0.9333333333333333\n",
      "325 8 0.9333333333333333\n",
      "325 9 0.9333333333333333\n",
      "325 10 0.9333333333333333\n",
      "325 11 0.9333333333333333\n",
      "325 12 0.9333333333333333\n",
      "325 13 0.9333333333333333\n",
      "325 14 0.9333333333333333\n",
      "325 15 0.9333333333333333\n",
      "325 16 0.9333333333333333\n",
      "325 17 0.9333333333333333\n",
      "325 18 0.9333333333333333\n",
      "325 19 0.9333333333333333\n",
      "350 1 0.9111111111111111\n",
      "350 2 0.9333333333333333\n",
      "350 3 0.9333333333333333\n",
      "350 4 0.9333333333333333\n",
      "350 5 0.9333333333333333\n",
      "350 6 0.9333333333333333\n",
      "350 7 0.9333333333333333\n",
      "350 8 0.9333333333333333\n",
      "350 9 0.9333333333333333\n",
      "350 10 0.9333333333333333\n",
      "350 11 0.9333333333333333\n",
      "350 12 0.9333333333333333\n",
      "350 13 0.9333333333333333\n",
      "350 14 0.9333333333333333\n",
      "350 15 0.9333333333333333\n",
      "350 16 0.9333333333333333\n",
      "350 17 0.9333333333333333\n",
      "350 18 0.9333333333333333\n",
      "350 19 0.9333333333333333\n",
      "375 1 0.9111111111111111\n",
      "375 2 0.9333333333333333\n",
      "375 3 0.9333333333333333\n",
      "375 4 0.9333333333333333\n",
      "375 5 0.9333333333333333\n",
      "375 6 0.9333333333333333\n",
      "375 7 0.9333333333333333\n",
      "375 8 0.9333333333333333\n",
      "375 9 0.9333333333333333\n",
      "375 10 0.9333333333333333\n",
      "375 11 0.9333333333333333\n",
      "375 12 0.9333333333333333\n",
      "375 13 0.9333333333333333\n",
      "375 14 0.9333333333333333\n",
      "375 15 0.9333333333333333\n",
      "375 16 0.9333333333333333\n",
      "375 17 0.9333333333333333\n",
      "375 18 0.9333333333333333\n",
      "375 19 0.9333333333333333\n"
     ]
    }
   ],
   "source": [
    "#随机森林\n",
    "for i in range(25,400,25):\n",
    "    for j in range(1,20):\n",
    "        clf_c1 = RandomForestClassifier(n_estimators=i,criterion='gini',max_depth= j,min_samples_split=10,random_state=66)\n",
    "        clf_c1.fit(X_train,Y_train)\n",
    "        print(i,j,clf_c1.score(X_test,Y_test))"
   ]
  },
  {
   "cell_type": "code",
   "execution_count": null,
   "id": "24bb8276",
   "metadata": {},
   "outputs": [],
   "source": []
  }
 ],
 "metadata": {
  "kernelspec": {
   "display_name": "Python [conda env:root] *",
   "language": "python",
   "name": "conda-root-py"
  },
  "language_info": {
   "codemirror_mode": {
    "name": "ipython",
    "version": 3
   },
   "file_extension": ".py",
   "mimetype": "text/x-python",
   "name": "python",
   "nbconvert_exporter": "python",
   "pygments_lexer": "ipython3",
   "version": "3.9.12"
  }
 },
 "nbformat": 4,
 "nbformat_minor": 5
}
