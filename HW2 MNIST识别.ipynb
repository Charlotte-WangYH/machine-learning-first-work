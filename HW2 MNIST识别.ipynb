{
 "cells": [
  {
   "cell_type": "code",
   "execution_count": 17,
   "id": "abfbffd4",
   "metadata": {},
   "outputs": [],
   "source": [
    "import torchvision \n",
    "import torch\n",
    "from torch import nn, optim\n",
    "import torch.utils.data  as Data \n",
    "import matplotlib.pyplot  as plt\n",
    "\n",
    "\n",
    "BATCH_SIZE = 64"
   ]
  },
  {
   "cell_type": "code",
   "execution_count": 18,
   "id": "3b47e3ad",
   "metadata": {},
   "outputs": [],
   "source": [
    "#下载数据\n",
    "data_train = torchvision.datasets.MNIST(root = './data',train = True,transform=torchvision.transforms.ToTensor(),download = False)#转化为tensor类型\n",
    "data_test = torchvision.datasets.MNIST(root = './data', train = False,download = False)"
   ]
  },
  {
   "cell_type": "code",
   "execution_count": 19,
   "id": "0053357a",
   "metadata": {},
   "outputs": [
    {
     "data": {
      "image/png": "[encoded data removed]",
      "text/plain": [
       "<Figure size 432x288 with 64 Axes>"
      ]
     },
     "metadata": {},
     "output_type": "display_data"
    }
   ],
   "source": [
    "#matplotlib可视化\n",
    "train_data = Data.DataLoader(data_train,batch_size = BATCH_SIZE,shuffle=False)#加载数据\n",
    "data = enumerate(train_data)\n",
    "batch_idx, (imgs, labels) = next(data)\n",
    "\n",
    "fig, ax = plt.subplots(nrows=8, ncols=8, sharex='all', sharey='all')#设置整个图\n",
    "ax = ax.flatten()\n",
    "\n",
    "for i in range(64):\n",
    "    img = imgs[i].reshape(28,28)\n",
    "    ax[i].imshow(img, cmap='Greys', interpolation='nearest')#子图\n",
    "ax[0].set_xticks([])\n",
    "ax[0].set_yticks([])\n",
    "plt.tight_layout()\n",
    "plt.show()\n"
   ]
  },
  {
   "cell_type": "code",
   "execution_count": 106,
   "id": "f59683f1",
   "metadata": {},
   "outputs": [],
   "source": [
    "#数据处理\n",
    "data_transf = torchvision.transforms.Compose(\n",
    "    [torchvision.transforms.ToTensor(),#转化为TENSOR\n",
    "     torchvision.transforms.Normalize([0.5], [0.5])])#归一化\n",
    "\n",
    "x_train_data = torchvision.datasets.MNIST(root = './data',train = True,transform=data_transf,download = False)#转化为tensor类型\n",
    "y_test_data = torchvision.datasets.MNIST(root = './data', train = False,transform=data_transf,download = False)"
   ]
  },
  {
   "cell_type": "code",
   "execution_count": 120,
   "id": "43da93c1",
   "metadata": {},
   "outputs": [],
   "source": [
    "#参数设置\n",
    "batch_size = 64\n",
    "learn = 0.01\n",
    "epoch = 3"
   ]
  },
  {
   "cell_type": "code",
   "execution_count": 121,
   "id": "46561b51",
   "metadata": {},
   "outputs": [],
   "source": [
    "x_train = Data.DataLoader(x_train_data,batch_size = batch_size,shuffle=False)#加载数据\n",
    "y_train = Data.DataLoader(y_test_data,batch_size = batch_size,shuffle=False)"
   ]
  },
  {
   "cell_type": "code",
   "execution_count": 122,
   "id": "3c71b9f0",
   "metadata": {},
   "outputs": [],
   "source": [
    "import torch.nn.functional as F\n",
    "import torch.optim as optim\n",
    "#模型建立\n",
    "class CNN(nn.Module):\n",
    "    def __init__(self):\n",
    "        super(CNN,self).__init__()\n",
    "        \n",
    "        self.conv1 = nn.Conv2d(1,20,3)\n",
    "        self.conv2 = nn.Conv2d(20,40,3)\n",
    "        \n",
    "        self.fc1 = nn.Linear(40*11*11,500)\n",
    "        self.fc2 = nn.Linear(500,10)\n",
    "        \n",
    "    def forward(self,x):\n",
    "        x = F.max_pool2d(F.relu(self.conv1(x)),2,2)\n",
    "        x = F.relu(self.conv2(x))\n",
    "        #print(x.size())\n",
    "        x = x.view(-1,40*11*11)\n",
    "        x = F.relu(self.fc1(x))\n",
    "        x = self.fc2(x)\n",
    "        \n",
    "        return x\n",
    "    "
   ]
  },
  {
   "cell_type": "code",
   "execution_count": 124,
   "id": "789c0a03",
   "metadata": {},
   "outputs": [],
   "source": [
    "#实例化\n",
    "model = CNN()\n",
    "\n",
    "if torch.cuda.is_available():\n",
    "    model = model.cuda()\n",
    "\n",
    "#优化器与损失函数\n",
    "optimizer = optim.SGD(model.parameters(),lr=learn,momentum=0.5)\n",
    "get_loss = nn.CrossEntropyLoss()\n"
   ]
  },
  {
   "cell_type": "code",
   "execution_count": 125,
   "id": "55b75499",
   "metadata": {},
   "outputs": [
    {
     "name": "stdout",
     "output_type": "stream",
     "text": [
      "Start training\n",
      "epoch: 3, item:50, loss: 2.071\n",
      "epoch: 3, item:100, loss: 0.8642\n",
      "epoch: 3, item:150, loss: 0.6022\n",
      "epoch: 3, item:200, loss: 0.5466\n",
      "epoch: 3, item:250, loss: 0.6105\n",
      "epoch: 3, item:300, loss: 0.3808\n",
      "epoch: 3, item:350, loss: 0.1327\n",
      "epoch: 3, item:400, loss: 0.3828\n",
      "epoch: 3, item:450, loss: 0.2534\n",
      "epoch: 3, item:500, loss: 0.3427\n",
      "epoch: 3, item:550, loss: 0.2778\n",
      "epoch: 3, item:600, loss: 0.2676\n",
      "epoch: 3, item:650, loss: 0.3258\n",
      "epoch: 3, item:700, loss: 0.198\n",
      "epoch: 3, item:750, loss: 0.2384\n",
      "epoch: 3, item:800, loss: 0.2955\n",
      "epoch: 3, item:850, loss: 0.2491\n",
      "epoch: 3, item:900, loss: 0.1138\n",
      "epoch: 3, item:950, loss: 0.2325\n",
      "epoch: 3, item:1000, loss: 0.08129\n",
      "epoch: 3, item:1050, loss: 0.1998\n",
      "epoch: 3, item:1100, loss: 0.1824\n",
      "epoch: 3, item:1150, loss: 0.1614\n",
      "epoch: 3, item:1200, loss: 0.2283\n",
      "epoch: 3, item:1250, loss: 0.1323\n",
      "epoch: 3, item:1300, loss: 0.1833\n",
      "epoch: 3, item:1350, loss: 0.1427\n",
      "epoch: 3, item:1400, loss: 0.1205\n",
      "epoch: 3, item:1450, loss: 0.1025\n",
      "epoch: 3, item:1500, loss: 0.1133\n",
      "epoch: 3, item:1550, loss: 0.09748\n",
      "epoch: 3, item:1600, loss: 0.238\n",
      "epoch: 3, item:1650, loss: 0.1861\n",
      "epoch: 3, item:1700, loss: 0.0362\n",
      "epoch: 3, item:1750, loss: 0.09343\n",
      "epoch: 3, item:1800, loss: 0.04147\n",
      "epoch: 3, item:1850, loss: 0.02736\n",
      "epoch: 3, item:1900, loss: 0.1099\n",
      "epoch: 3, item:1950, loss: 0.04951\n",
      "epoch: 3, item:2000, loss: 0.1226\n",
      "epoch: 3, item:2050, loss: 0.06345\n",
      "epoch: 3, item:2100, loss: 0.1523\n",
      "epoch: 3, item:2150, loss: 0.09317\n",
      "epoch: 3, item:2200, loss: 0.2896\n",
      "epoch: 3, item:2250, loss: 0.1033\n",
      "epoch: 3, item:2300, loss: 0.07024\n",
      "epoch: 3, item:2350, loss: 0.04897\n",
      "epoch: 3, item:2400, loss: 0.09791\n",
      "epoch: 3, item:2450, loss: 0.1055\n",
      "epoch: 3, item:2500, loss: 0.06366\n",
      "epoch: 3, item:2550, loss: 0.09057\n",
      "epoch: 3, item:2600, loss: 0.2301\n",
      "epoch: 3, item:2650, loss: 0.2074\n",
      "epoch: 3, item:2700, loss: 0.1294\n",
      "epoch: 3, item:2750, loss: 0.1434\n",
      "epoch: 3, item:2800, loss: 0.005462\n"
     ]
    }
   ],
   "source": [
    "#训练\n",
    "print(\"Start training\")\n",
    "item = 0\n",
    "log = []\n",
    "for i in range(epoch):\n",
    "    for data in x_train:\n",
    "        img, label = data\n",
    "        if torch.cuda.is_available():\n",
    "            img = img.cuda()\n",
    "            label = label.cuda()\n",
    "        else:\n",
    "            img = img\n",
    "            label = label\n",
    "            \n",
    "        output = model(img)\n",
    "        loss = get_loss(output,label)\n",
    "        \n",
    "        optimizer.zero_grad()\n",
    "        loss.backward()\n",
    "        optimizer.step()\n",
    "        \n",
    "        item+=1\n",
    "        log.append([item,loss.data.item()])\n",
    "        if item%50 == 0:\n",
    "            print('epoch: {}, item:{}, loss: {:.4}'.format(epoch, item, loss.data.item()))"
   ]
  },
  {
   "cell_type": "code",
   "execution_count": 127,
   "id": "5c1bb9cd",
   "metadata": {},
   "outputs": [
    {
     "data": {
      "text/plain": [
       "[<matplotlib.lines.Line2D at 0x11318133520>]"
      ]
     },
     "execution_count": 127,
     "metadata": {},
     "output_type": "execute_result"
    },
    {
     "data": {
      "image/png": "[encoded data removed]",
      "text/plain": [
       "<Figure size 432x288 with 1 Axes>"
      ]
     },
     "metadata": {
      "needs_background": "light"
     },
     "output_type": "display_data"
    }
   ],
   "source": [
    "#数据可视化\n",
    "import numpy as np\n",
    "log = np.array(log)\n",
    "plt.plot(log[:,0],log[:,1])"
   ]
  },
  {
   "cell_type": "code",
   "execution_count": 126,
   "id": "a8f316a9",
   "metadata": {},
   "outputs": [
    {
     "name": "stdout",
     "output_type": "stream",
     "text": [
      "Start test\n",
      "Test Loss: 4.870723, Acc: 62.171975\n"
     ]
    }
   ],
   "source": [
    "#测试\n",
    "print('Start test')\n",
    "test_loss = 0\n",
    "test_acc = 0\n",
    "\n",
    "for data in y_train:\n",
    "    img, label = data\n",
    "    if torch.cuda.is_available():\n",
    "            img = img.cuda()\n",
    "            label = label.cuda()\n",
    "    \n",
    "    output = model(img)\n",
    "    loss = get_loss(output,label)\n",
    "        \n",
    "    test_loss += loss.data.item()*label.size(0)\n",
    "    _,pred = torch.max(output, 1)\n",
    "    num_correct = (pred == label).sum()\n",
    "    test_acc += num_correct.item()\n",
    "print('Test Loss: {:.6f}, Acc: {:.6f}'.format(test_loss / (len(y_train)), test_acc / (len(y_train))))\n",
    "    "
   ]
  },
  {
   "cell_type": "code",
   "execution_count": null,
   "id": "285a9b0c",
   "metadata": {},
   "outputs": [],
   "source": []
  }
 ],
 "metadata": {
  "kernelspec": {
   "display_name": "Python [conda env:root] *",
   "language": "python",
   "name": "conda-root-py"
  },
  "language_info": {
   "codemirror_mode": {
    "name": "ipython",
    "version": 3
   },
   "file_extension": ".py",
   "mimetype": "text/x-python",
   "name": "python",
   "nbconvert_exporter": "python",
   "pygments_lexer": "ipython3",
   "version": "3.9.12"
  }
 },
 "nbformat": 4,
 "nbformat_minor": 5
}
