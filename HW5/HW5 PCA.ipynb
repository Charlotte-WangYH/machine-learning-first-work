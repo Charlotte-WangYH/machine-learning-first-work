{
 "cells": [
  {
   "cell_type": "code",
   "execution_count": 108,
   "id": "859b9613",
   "metadata": {},
   "outputs": [],
   "source": [
    "import matplotlib.pyplot  as plt\n",
    "from sklearn.model_selection import train_test_split\n",
    "from scipy.io import loadmat\n",
    "import numpy as np"
   ]
  },
  {
   "cell_type": "code",
   "execution_count": 109,
   "id": "64507d85",
   "metadata": {},
   "outputs": [
    {
     "name": "stdout",
     "output_type": "stream",
     "text": [
      "(50, 2)\n",
      "(300, 2)\n"
     ]
    }
   ],
   "source": [
    "filename = 'data1.mat'\n",
    "data = loadmat(filename)\n",
    "X1=data['X']\n",
    "print(X1.shape)\n",
    "filename = 'data2.mat'\n",
    "data = loadmat(filename)\n",
    "X2=data['X']\n",
    "print(X2.shape)"
   ]
  },
  {
   "cell_type": "code",
   "execution_count": 110,
   "id": "64a473de",
   "metadata": {},
   "outputs": [
    {
     "name": "stdout",
     "output_type": "stream",
     "text": [
      "(5000, 1024)\n"
     ]
    }
   ],
   "source": [
    "filename = 'data3.mat'\n",
    "data = loadmat(filename)\n",
    "X3=data['X']\n",
    "print(X3.shape)"
   ]
  },
  {
   "cell_type": "code",
   "execution_count": 112,
   "id": "9ae50f68",
   "metadata": {},
   "outputs": [],
   "source": [
    "#处理\n",
    "#X1去中心化\n",
    "MEAN = np.mean(X1, axis=0)\n",
    "X1 = np.subtract(X1, MEAN)\n",
    "#X2\n",
    "MEAN = np.mean(X2, axis=0)\n",
    "X2 = np.subtract(X2, MEAN)\n",
    "#X3\n",
    "MEAN = np.mean(X3, axis=0)\n",
    "X3 = np.subtract(X3, MEAN)"
   ]
  },
  {
   "cell_type": "code",
   "execution_count": 136,
   "id": "9feea542",
   "metadata": {},
   "outputs": [
    {
     "name": "stdout",
     "output_type": "stream",
     "text": [
      "[2.10987818 0.3135314 ]\n"
     ]
    },
    {
     "data": {
      "text/plain": [
       "array([[ 0.76908153, -0.63915068],\n",
       "       [ 0.63915068,  0.76908153]])"
      ]
     },
     "execution_count": 136,
     "metadata": {},
     "output_type": "execute_result"
    }
   ],
   "source": [
    "#求特征值和特征向量\n",
    "#X1\n",
    "covX = np.cov(X1.T)\n",
    "featValue1, featVec1=  np.linalg.eig(covX)\n",
    "print(featValue1)\n",
    "featVec1"
   ]
  },
  {
   "cell_type": "code",
   "execution_count": 137,
   "id": "a52bdda2",
   "metadata": {},
   "outputs": [
    {
     "name": "stdout",
     "output_type": "stream",
     "text": [
      "[4.11420864 2.43313156]\n"
     ]
    },
    {
     "data": {
      "text/plain": [
       "array([[ 0.8707906 ,  0.49165407],\n",
       "       [-0.49165407,  0.8707906 ]])"
      ]
     },
     "execution_count": 137,
     "metadata": {},
     "output_type": "execute_result"
    }
   ],
   "source": [
    "#X2\n",
    "covX = np.cov(X2.T)\n",
    "featValue2, featVec2=  np.linalg.eig(covX)\n",
    "print(featValue2)\n",
    "featVec2"
   ]
  },
  {
   "cell_type": "code",
   "execution_count": 138,
   "id": "1f8cb149",
   "metadata": {},
   "outputs": [
    {
     "data": {
      "text/plain": [
       "array([[-0.0204473 ,  0.04609067, -0.03992254, ..., -0.00279925,\n",
       "         0.00372073, -0.00371532],\n",
       "       [-0.02082927,  0.04794968, -0.04100448, ...,  0.00730221,\n",
       "         0.00740645,  0.01283438],\n",
       "       [-0.02088808,  0.04946636, -0.04327971, ..., -0.01275209,\n",
       "        -0.03094744, -0.01273292],\n",
       "       ...,\n",
       "       [-0.01429868, -0.04182147, -0.07918063, ...,  0.02162308,\n",
       "         0.02194834,  0.03179197],\n",
       "       [-0.01279079, -0.03972965, -0.0791031 , ..., -0.01384201,\n",
       "        -0.02164814, -0.02825077],\n",
       "       [-0.01186197, -0.03786644, -0.07711544, ...,  0.00378965,\n",
       "         0.01020517,  0.01524074]])"
      ]
     },
     "execution_count": 138,
     "metadata": {},
     "output_type": "execute_result"
    }
   ],
   "source": [
    "#X3\n",
    "covX = np.cov(X3.T)\n",
    "featValue3, featVec3=  np.linalg.eig(covX)\n",
    "featValue3\n",
    "featVec3"
   ]
  },
  {
   "cell_type": "code",
   "execution_count": 139,
   "id": "35fee726",
   "metadata": {},
   "outputs": [
    {
     "name": "stdout",
     "output_type": "stream",
     "text": [
      "(50, 1)\n",
      "(300, 1)\n"
     ]
    }
   ],
   "source": [
    "#样本点投影\n",
    "#X1\n",
    "V1=np.array([ 0.63915068,  0.76908153])\n",
    "V1=np.array([V1]).T\n",
    "finalData1 = np.dot(X1,V1)\n",
    "print(finalData1.shape)\n",
    "#X2\n",
    "V2=np.array([ 0.8707906 ,  0.49165407])\n",
    "V2=np.array([V2]).T\n",
    "finalData2 = np.dot(X2,V2)\n",
    "print(finalData2.shape)"
   ]
  },
  {
   "cell_type": "code",
   "execution_count": 143,
   "id": "9d9826e3",
   "metadata": {},
   "outputs": [
    {
     "name": "stdout",
     "output_type": "stream",
     "text": [
      "(1, 2)\n"
     ]
    },
    {
     "data": {
      "text/plain": [
       "<matplotlib.collections.PathCollection at 0x1ff83aa52e0>"
      ]
     },
     "execution_count": 143,
     "metadata": {},
     "output_type": "execute_result"
    },
    {
     "data": {
      "image/png": "[encoded data removed]",
      "text/plain": [
       "<Figure size 432x288 with 1 Axes>"
      ]
     },
     "metadata": {
      "needs_background": "light"
     },
     "output_type": "display_data"
    }
   ],
   "source": [
    "#可视化\n",
    "x1=np.array([[ 0.63915068,  0.76908153]])\n",
    "print(x1.shape)\n",
    "view1=np.dot(finalData1,x1)\n",
    "plt.scatter(view1[:,0],view1[:,1])\n",
    "plt.scatter(X1[:,0],X1[:,1])"
   ]
  },
  {
   "cell_type": "code",
   "execution_count": 144,
   "id": "2b3dddf3",
   "metadata": {},
   "outputs": [
    {
     "name": "stdout",
     "output_type": "stream",
     "text": [
      "(1, 2)\n"
     ]
    },
    {
     "data": {
      "text/plain": [
       "<matplotlib.collections.PathCollection at 0x1ff83b05250>"
      ]
     },
     "execution_count": 144,
     "metadata": {},
     "output_type": "execute_result"
    },
    {
     "data": {
      "image/png": "[encoded data removed]",
      "text/plain": [
       "<Figure size 432x288 with 1 Axes>"
      ]
     },
     "metadata": {
      "needs_background": "light"
     },
     "output_type": "display_data"
    }
   ],
   "source": [
    "#可视化\n",
    "x2=np.array([[ 0.8707906 ,  0.49165407]])\n",
    "print(x2.shape)\n",
    "view2=np.dot(finalData1,x2)\n",
    "plt.scatter(view2[:,0],view2[:,1])\n",
    "plt.scatter(X2[:,0],X2[:,1])"
   ]
  },
  {
   "cell_type": "code",
   "execution_count": 123,
   "id": "ba6edede",
   "metadata": {},
   "outputs": [
    {
     "name": "stdout",
     "output_type": "stream",
     "text": [
      "32 0.18094257061397753\n",
      "44 0.1441788700077693\n",
      "56 0.11857353323838313\n",
      "68 0.09960453914035278\n",
      "80 0.08513094503264373\n",
      "92 0.07357624332709796\n",
      "104 0.06423279510733285\n",
      "116 0.05651188006839866\n",
      "128 0.05003533480762459\n",
      "140 0.044581664584604816\n",
      "152 0.039843171519157755\n",
      "164 0.03578118782191168\n",
      "176 0.03223418322114436\n",
      "188 0.02913565339942248\n",
      "200 0.026381232053286234\n",
      "212 0.02396457245659622\n",
      "224 0.021807335431307133\n",
      "236 0.019876490784190088\n",
      "248 0.018153886246209398\n",
      "260 0.016597349512527008\n",
      "272 0.015190883107680414\n",
      "284 0.01393184731333464\n",
      "296 0.012786467821310004\n",
      "308 0.011743642802069354\n",
      "320 0.010795486619788661\n",
      "332 0.009933391425093698\n",
      "344 0.009146377847627628\n",
      "356 0.008431508372816412\n",
      "368 0.007777137442939858\n",
      "380 0.007178810140476903\n",
      "392 0.006630882255078266\n",
      "404 0.0061272025749253564\n",
      "416 0.0056619339398753495\n",
      "428 0.005233676338397391\n",
      "440 0.004837282859818063\n",
      "452 0.004471782276589067\n",
      "464 0.004135985237265253\n",
      "476 0.003824386679045327\n",
      "488 0.0035371197171306327\n",
      "500 0.0032718249682002565\n",
      "512 0.003025617053477366\n",
      "524 0.0027966374313019076\n",
      "536 0.0025840050288151706\n",
      "548 0.002388294991914992\n",
      "560 0.002205835710547179\n",
      "572 0.0020356427117874526\n",
      "584 0.0018782010128358011\n",
      "596 0.0017314075801278766\n",
      "608 0.0015950523500471829\n",
      "620 0.0014679045734050154\n",
      "632 0.0013495041748698747\n",
      "644 0.0012393646585096428\n",
      "656 0.0011369153091207254\n",
      "668 0.0010416555841482468\n",
      "680 0.000953266285231042\n",
      "692 0.0008706082671618498\n",
      "704 0.0007935748130174277\n",
      "716 0.000721936888890966\n",
      "728 0.0006558176439577743\n",
      "740 0.0005943688406521905\n",
      "752 0.0005373063930803106\n",
      "764 0.00048443441322770266\n",
      "776 0.00043534962254228104\n",
      "788 0.0003898794706821994\n",
      "800 0.00034778880795975127\n",
      "812 0.0003090393901301438\n",
      "824 0.00027337528805961264\n",
      "836 0.00024055892549218984\n",
      "848 0.00021041242712484815\n",
      "860 0.00018293155997135978\n",
      "872 0.00015775023775048\n",
      "884 0.0001347631058937574\n",
      "896 0.00011386495056341126\n",
      "908 9.501034143240287e-05\n",
      "920 7.797240126614244e-05\n",
      "932 6.275999823908507e-05\n",
      "944 4.932489668081797e-05\n",
      "956 3.7509874279308966e-05\n",
      "968 2.7346459376123795e-05\n",
      "980 1.877366022608408e-05\n",
      "992 1.1778955501987925e-05\n",
      "1004 6.097170542770925e-06\n",
      "1016 1.838212413702841e-06\n"
     ]
    }
   ],
   "source": [
    "#选择最大的k个特征值对应的k个特征向量\n",
    "index = np.argsort(-featValue3)\n",
    "index\n",
    " \n",
    "# 下面是从小到大\n",
    "np.argsort(featValue3)\n",
    "\n",
    "L=[]\n",
    "\n",
    "for k in range(32,1023,12):\n",
    "    selectVec = np.matrix(featVec3.T[index[:k]])\n",
    "    selectVec\n",
    "    finalData = X3 * selectVec.T \n",
    "    #计算误差\n",
    "    reconData = (finalData * selectVec)\n",
    "    #print(reconData.shape)\n",
    "    errMat = X3 - reconData\n",
    "    err1 = np.sum(np.array(errMat)**2) /5000\n",
    "\n",
    "    err2 = np.sum(X3**2) / 5000\n",
    "\n",
    "    eta = err1/err2\n",
    "    print(k,eta)\n",
    "    L.append([k,eta])"
   ]
  },
  {
   "cell_type": "code",
   "execution_count": 124,
   "id": "310e2260",
   "metadata": {
    "scrolled": true
   },
   "outputs": [
    {
     "data": {
      "text/plain": [
       "Text(0, 0.5, 'eta')"
      ]
     },
     "execution_count": 124,
     "metadata": {},
     "output_type": "execute_result"
    },
    {
     "data": {
      "image/png": "[encoded data removed]",
      "text/plain": [
       "<Figure size 432x288 with 1 Axes>"
      ]
     },
     "metadata": {
      "needs_background": "light"
     },
     "output_type": "display_data"
    }
   ],
   "source": [
    "L=np.array(L)\n",
    "plt.scatter(L[:,0],L[:,1])\n",
    "plt.plot(L[:,0],L[:,1])\n",
    "plt.xlabel('k')\n",
    "plt.ylabel('eta')\n"
   ]
  },
  {
   "cell_type": "code",
   "execution_count": 146,
   "id": "f0d8afd3",
   "metadata": {
    "scrolled": true
   },
   "outputs": [
    {
     "data": {
      "image/png": "[encoded data removed]",
      "text/plain": [
       "<Figure size 432x288 with 1 Axes>"
      ]
     },
     "metadata": {
      "needs_background": "light"
     },
     "output_type": "display_data"
    }
   ],
   "source": [
    "#sklearn\n",
    "from sklearn.decomposition import PCA\n",
    "pca = PCA(n_components=1)\n",
    "Xpca=pca.fit_transform(X1)\n",
    "x_pca=np.dot(Xpca,pca.components_)\n",
    "plt.scatter(x_pca[:,0],x_pca[:,1],c='y')\n",
    "plt.scatter(view1[:,0],view1[:,1])\n",
    "plt.legend(['sklearn', 'numpy'])\n",
    "plt.show()"
   ]
  },
  {
   "cell_type": "code",
   "execution_count": null,
   "id": "acb1285c",
   "metadata": {},
   "outputs": [],
   "source": []
  },
  {
   "cell_type": "code",
   "execution_count": null,
   "id": "f51a4b72",
   "metadata": {},
   "outputs": [],
   "source": []
  }
 ],
 "metadata": {
  "kernelspec": {
   "display_name": "Python [conda env:root] *",
   "language": "python",
   "name": "conda-root-py"
  },
  "language_info": {
   "codemirror_mode": {
    "name": "ipython",
    "version": 3
   },
   "file_extension": ".py",
   "mimetype": "text/x-python",
   "name": "python",
   "nbconvert_exporter": "python",
   "pygments_lexer": "ipython3",
   "version": "3.9.12"
  }
 },
 "nbformat": 4,
 "nbformat_minor": 5
}
